{
 "cells": [
  {
   "cell_type": "code",
   "execution_count": 1,
   "metadata": {},
   "outputs": [],
   "source": [
    "import requests\n",
    "import json\n",
    "import pandas as pd"
   ]
  },
  {
   "cell_type": "code",
   "execution_count": 2,
   "metadata": {},
   "outputs": [],
   "source": [
    "# Set the request parameters\n",
    "url = 'https://imamdev.zendesk.com/api/v2/tickets.json'\n",
    "user = 'imampreuner@gmail.com'\n",
    "pwd = 'Imam1504'"
   ]
  },
  {
   "cell_type": "code",
   "execution_count": 25,
   "metadata": {},
   "outputs": [],
   "source": [
    "# Do the HTTP get request\n",
    "response = requests.get(url, auth=(user, pwd))\n",
    "\n",
    "# Check for HTTP codes other than 200\n",
    "if response.status_code != 200:\n",
    "    print('Status:', response.status_code, 'Problem with the request. Exiting.')\n",
    "    exit()\n",
    "# Decode the JSON response into a dictionary and use the data\n",
    "data = response.json()\n",
    "ticket_list = data['tickets']\n",
    "\n",
    "# transform dictionary to dataframe\n",
    "df = pd.DataFrame.from_dict(ticket_list)"
   ]
  },
  {
   "cell_type": "code",
   "execution_count": 5,
   "metadata": {},
   "outputs": [
    {
     "data": {
      "text/plain": [
       "problem     2\n",
       "task        1\n",
       "incident    1\n",
       "question    1\n",
       "Name: type, dtype: int64"
      ]
     },
     "execution_count": 5,
     "metadata": {},
     "output_type": "execute_result"
    }
   ],
   "source": [
    "# mengecek informasi terkait tipe tiket yang question, urgent, incident, dll\n",
    "df['type'].value_counts()"
   ]
  },
  {
   "cell_type": "code",
   "execution_count": 6,
   "metadata": {
    "scrolled": true
   },
   "outputs": [
    {
     "name": "stdout",
     "output_type": "stream",
     "text": [
      " id                         subject            created_at            updated_at      type priority  status      group_id\n",
      "  1  Sample ticket: Meet the ticket  2020-07-03T05:32:46Z  2020-07-03T08:57:33Z  incident   normal  solved  900001454726\n",
      "  2                            Test  2020-07-03T05:48:38Z  2020-07-03T08:54:34Z  question     high  solved  900001454726\n",
      "  3                  Test ticket #1  2020-07-03T05:54:52Z  2020-07-03T09:02:20Z   problem      low     new  900001454726\n",
      "  4                  Test ticket #2  2020-07-03T05:54:52Z  2020-07-03T09:01:42Z   problem   urgent     new  900001454726\n",
      "  5                  Test ticket #0  2020-07-03T05:54:53Z  2020-07-03T09:02:37Z      task     high     new  900001454726\n"
     ]
    }
   ],
   "source": [
    "#show table\n",
    "df_final = df[['id','subject','created_at','updated_at','type','priority','status','group_id']]\n",
    "\n",
    "df_final = df_final.to_string(index=False)\n",
    "\n",
    "print (df_final)"
   ]
  },
  {
   "cell_type": "code",
   "execution_count": 7,
   "metadata": {},
   "outputs": [],
   "source": [
    "urlgroup = 'https://imamdev.zendesk.com/api/v2/groups.json'\n",
    "\n",
    "# Do the HTTP get request\n",
    "response = requests.get(urlgroup, auth=(user, pwd))\n",
    "\n",
    "# Decode the JSON response into a dictionary and use the data\n",
    "datagroup = response.json()\n",
    "group_list = datagroup['groups']"
   ]
  },
  {
   "cell_type": "code",
   "execution_count": 8,
   "metadata": {},
   "outputs": [
    {
     "name": "stdout",
     "output_type": "stream",
     "text": [
      "           id       name description            created_at\n",
      " 900001458246  Marketing   Marketing  2020-07-03T08:40:42Z\n",
      " 900001454726    Support  IT Support  2020-07-03T05:32:40Z\n"
     ]
    }
   ],
   "source": [
    "# show group dataframe\n",
    "\n",
    "group_df = pd.DataFrame.from_dict(group_list)\n",
    "\n",
    "group_df = group_df[['id','name','description','created_at']]\n",
    "\n",
    "group_df = group_df.to_string(index=False)\n",
    "\n",
    "print (group_df)\n"
   ]
  },
  {
   "cell_type": "code",
   "execution_count": 23,
   "metadata": {},
   "outputs": [],
   "source": [
    "urluser = 'https://imamdev.zendesk.com/api/v2/users'\n",
    "\n",
    "# Do the HTTP get request\n",
    "response = requests.get(urluser, auth=(user, pwd))\n",
    "\n",
    "# Decode the JSON response into a dictionary and use the data\n",
    "datausers = response.json()\n",
    "user_list = datausers['users']\n",
    "\n",
    "user_df = pd.DataFrame.from_dict(user_list)"
   ]
  },
  {
   "cell_type": "code",
   "execution_count": 24,
   "metadata": {},
   "outputs": [
    {
     "data": {
      "text/plain": [
       "end-user    3\n",
       "agent       1\n",
       "admin       1\n",
       "Name: role, dtype: int64"
      ]
     },
     "execution_count": 24,
     "metadata": {},
     "output_type": "execute_result"
    }
   ],
   "source": [
    "#count role in users\n",
    "\n",
    "user_df['role'].value_counts()"
   ]
  },
  {
   "cell_type": "code",
   "execution_count": 19,
   "metadata": {},
   "outputs": [
    {
     "name": "stdout",
     "output_type": "stream",
     "text": [
      "           id                       name                        email      role\n",
      " 900449805183               Dude Herlino  imamarisdeveloper@gmail.com     agent\n",
      " 900449928206                  imam aris        imampreuner@gmail.com     admin\n",
      " 900450308283  General Manager Marketing  svensolutiongroup@gmail.com  end-user\n",
      " 900450361306            Sample customer         customer@example.com  end-user\n",
      " 900450399426          Tampan dan Berani         arisuxhero@gmail.com  end-user\n"
     ]
    }
   ],
   "source": [
    "# show table users\n",
    "\n",
    "user_df = user_df[['id','name','email','role']]\n",
    "\n",
    "user_df = user_df.to_string(index=False)\n",
    "\n",
    "print (user_df)"
   ]
  },
  {
   "cell_type": "code",
   "execution_count": null,
   "metadata": {},
   "outputs": [],
   "source": []
  }
 ],
 "metadata": {
  "kernelspec": {
   "display_name": "Python 3",
   "language": "python",
   "name": "python3"
  },
  "language_info": {
   "codemirror_mode": {
    "name": "ipython",
    "version": 3
   },
   "file_extension": ".py",
   "mimetype": "text/x-python",
   "name": "python",
   "nbconvert_exporter": "python",
   "pygments_lexer": "ipython3",
   "version": "3.7.6"
  }
 },
 "nbformat": 4,
 "nbformat_minor": 4
}
